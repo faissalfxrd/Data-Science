{
 "cells": [
  {
   "cell_type": "code",
   "execution_count": 108,
   "id": "7a378330",
   "metadata": {},
   "outputs": [],
   "source": [
    "import pandas as pd"
   ]
  },
  {
   "cell_type": "code",
   "execution_count": null,
   "id": "1e6cc87a",
   "metadata": {},
   "outputs": [],
   "source": [
    "#change MESS_DATUM in date format\n",
    "#FORMAT='%Y%m%d%H'\n",
    "#preception['MESS_DATUM'] = pd.to_datetime(preception['MESS_DATUM'], format=FORMAT)\n",
    "#wether['MESS_DATUM'] = pd.to_datetime(wether['MESS_DATUM'], format=FORMAT)"
   ]
  },
  {
   "cell_type": "code",
   "execution_count": 132,
   "id": "be446401",
   "metadata": {},
   "outputs": [],
   "source": [
    "#concatenate two df \n",
    "#result = pd.concat([data, data1], ignore_index=True, sort=False)"
   ]
  },
  {
   "cell_type": "code",
   "execution_count": 140,
   "id": "4537d22c",
   "metadata": {},
   "outputs": [],
   "source": [
    "preception = pd.read_csv('filteredpreception.csv')\n",
    "wether = pd.read_csv('filteredWetherData.csv')"
   ]
  },
  {
   "cell_type": "code",
   "execution_count": 133,
   "id": "59e20710",
   "metadata": {},
   "outputs": [],
   "source": [
    "#preception = preception[(preception['MESS_DATUM'] >=\"2020-01-01 00:00:00\") & (preception['MESS_DATUM'] <=\"2021-04-07 23:00:00\")]\n",
    "#wether = wether[(wether['MESS_DATUM'] >=\"2020-01-01 00:00:00\") & (wether['MESS_DATUM'] <=\"2021-04-07 23:00:00\")]"
   ]
  },
  {
   "cell_type": "code",
   "execution_count": 134,
   "id": "b31efa0a",
   "metadata": {},
   "outputs": [],
   "source": [
    "#merge two collums by same value in specific collum \n",
    "test = pd.merge(wether, preception, on=\"MESS_DATUM\",how=\"left\")"
   ]
  },
  {
   "cell_type": "code",
   "execution_count": null,
   "id": "e7e11285",
   "metadata": {},
   "outputs": [],
   "source": [
    "#R1 stündliche Niederschlagshöhe mm\n",
    "#RS_IND Index kein Niederschlag = 0 , Niederschlag gefallen = 1 \n",
    "#WRTR WR-Niederschlagsform WR -Codierung"
   ]
  },
  {
   "cell_type": "code",
   "execution_count": 154,
   "id": "273cada7",
   "metadata": {},
   "outputs": [],
   "source": [
    "test.to_csv('test.csv')"
   ]
  },
  {
   "cell_type": "code",
   "execution_count": 181,
   "id": "d9845e94",
   "metadata": {},
   "outputs": [],
   "source": [
    "del(test['STATIONS_ID_y'])"
   ]
  },
  {
   "cell_type": "code",
   "execution_count": 172,
   "id": "04d512e0",
   "metadata": {},
   "outputs": [],
   "source": [
    "import numpy as np\n",
    "test['  R1'] = test['  R1'].replace(np.nan, 0.0)\n",
    "test['RS_IND'] = test['RS_IND'].replace(np.nan, 0.0)"
   ]
  },
  {
   "cell_type": "code",
   "execution_count": 175,
   "id": "40df855c",
   "metadata": {},
   "outputs": [],
   "source": [
    "test = test[(test['MESS_DATUM'] <=\"2021-04-06 23:00:00\")]"
   ]
  },
  {
   "cell_type": "code",
   "execution_count": 184,
   "id": "06c69aef",
   "metadata": {},
   "outputs": [],
   "source": [
    "test.to_csv(\"wetherMergepreception.csv\")"
   ]
  },
  {
   "cell_type": "code",
   "execution_count": 182,
   "id": "309a052e",
   "metadata": {},
   "outputs": [
    {
     "data": {
      "text/html": [
       "<div>\n",
       "<style scoped>\n",
       "    .dataframe tbody tr th:only-of-type {\n",
       "        vertical-align: middle;\n",
       "    }\n",
       "\n",
       "    .dataframe tbody tr th {\n",
       "        vertical-align: top;\n",
       "    }\n",
       "\n",
       "    .dataframe thead th {\n",
       "        text-align: right;\n",
       "    }\n",
       "</style>\n",
       "<table border=\"1\" class=\"dataframe\">\n",
       "  <thead>\n",
       "    <tr style=\"text-align: right;\">\n",
       "      <th></th>\n",
       "      <th>MESS_DATUM</th>\n",
       "      <th>TT_TU</th>\n",
       "      <th>RF_TU</th>\n",
       "      <th>R1</th>\n",
       "      <th>RS_IND</th>\n",
       "    </tr>\n",
       "  </thead>\n",
       "  <tbody>\n",
       "    <tr>\n",
       "      <th>0</th>\n",
       "      <td>2015-01-01 00:00:00</td>\n",
       "      <td>4.0</td>\n",
       "      <td>90.0</td>\n",
       "      <td>0.0</td>\n",
       "      <td>0.0</td>\n",
       "    </tr>\n",
       "    <tr>\n",
       "      <th>1</th>\n",
       "      <td>2015-01-01 01:00:00</td>\n",
       "      <td>4.1</td>\n",
       "      <td>89.0</td>\n",
       "      <td>0.0</td>\n",
       "      <td>0.0</td>\n",
       "    </tr>\n",
       "    <tr>\n",
       "      <th>2</th>\n",
       "      <td>2015-01-01 02:00:00</td>\n",
       "      <td>3.5</td>\n",
       "      <td>90.0</td>\n",
       "      <td>0.0</td>\n",
       "      <td>0.0</td>\n",
       "    </tr>\n",
       "    <tr>\n",
       "      <th>3</th>\n",
       "      <td>2015-01-01 03:00:00</td>\n",
       "      <td>3.3</td>\n",
       "      <td>91.0</td>\n",
       "      <td>0.0</td>\n",
       "      <td>0.0</td>\n",
       "    </tr>\n",
       "    <tr>\n",
       "      <th>4</th>\n",
       "      <td>2015-01-01 04:00:00</td>\n",
       "      <td>3.1</td>\n",
       "      <td>92.0</td>\n",
       "      <td>0.0</td>\n",
       "      <td>0.0</td>\n",
       "    </tr>\n",
       "    <tr>\n",
       "      <th>...</th>\n",
       "      <td>...</td>\n",
       "      <td>...</td>\n",
       "      <td>...</td>\n",
       "      <td>...</td>\n",
       "      <td>...</td>\n",
       "    </tr>\n",
       "    <tr>\n",
       "      <th>54907</th>\n",
       "      <td>2021-04-06 19:00:00</td>\n",
       "      <td>1.5</td>\n",
       "      <td>85.0</td>\n",
       "      <td>0.0</td>\n",
       "      <td>0.0</td>\n",
       "    </tr>\n",
       "    <tr>\n",
       "      <th>54908</th>\n",
       "      <td>2021-04-06 20:00:00</td>\n",
       "      <td>1.2</td>\n",
       "      <td>89.0</td>\n",
       "      <td>0.1</td>\n",
       "      <td>1.0</td>\n",
       "    </tr>\n",
       "    <tr>\n",
       "      <th>54909</th>\n",
       "      <td>2021-04-06 21:00:00</td>\n",
       "      <td>1.0</td>\n",
       "      <td>91.0</td>\n",
       "      <td>0.1</td>\n",
       "      <td>1.0</td>\n",
       "    </tr>\n",
       "    <tr>\n",
       "      <th>54910</th>\n",
       "      <td>2021-04-06 22:00:00</td>\n",
       "      <td>0.8</td>\n",
       "      <td>91.0</td>\n",
       "      <td>0.0</td>\n",
       "      <td>1.0</td>\n",
       "    </tr>\n",
       "    <tr>\n",
       "      <th>54911</th>\n",
       "      <td>2021-04-06 23:00:00</td>\n",
       "      <td>0.5</td>\n",
       "      <td>89.0</td>\n",
       "      <td>0.0</td>\n",
       "      <td>0.0</td>\n",
       "    </tr>\n",
       "  </tbody>\n",
       "</table>\n",
       "<p>54912 rows × 5 columns</p>\n",
       "</div>"
      ],
      "text/plain": [
       "                MESS_DATUM  TT_TU  RF_TU    R1  RS_IND\n",
       "0      2015-01-01 00:00:00    4.0   90.0   0.0     0.0\n",
       "1      2015-01-01 01:00:00    4.1   89.0   0.0     0.0\n",
       "2      2015-01-01 02:00:00    3.5   90.0   0.0     0.0\n",
       "3      2015-01-01 03:00:00    3.3   91.0   0.0     0.0\n",
       "4      2015-01-01 04:00:00    3.1   92.0   0.0     0.0\n",
       "...                    ...    ...    ...   ...     ...\n",
       "54907  2021-04-06 19:00:00    1.5   85.0   0.0     0.0\n",
       "54908  2021-04-06 20:00:00    1.2   89.0   0.1     1.0\n",
       "54909  2021-04-06 21:00:00    1.0   91.0   0.1     1.0\n",
       "54910  2021-04-06 22:00:00    0.8   91.0   0.0     1.0\n",
       "54911  2021-04-06 23:00:00    0.5   89.0   0.0     0.0\n",
       "\n",
       "[54912 rows x 5 columns]"
      ]
     },
     "execution_count": 182,
     "metadata": {},
     "output_type": "execute_result"
    }
   ],
   "source": [
    "test"
   ]
  },
  {
   "cell_type": "code",
   "execution_count": null,
   "id": "ca3254cf",
   "metadata": {},
   "outputs": [],
   "source": []
  }
 ],
 "metadata": {
  "kernelspec": {
   "display_name": "Python 3",
   "language": "python",
   "name": "python3"
  },
  "language_info": {
   "codemirror_mode": {
    "name": "ipython",
    "version": 3
   },
   "file_extension": ".py",
   "mimetype": "text/x-python",
   "name": "python",
   "nbconvert_exporter": "python",
   "pygments_lexer": "ipython3",
   "version": "3.7.0"
  }
 },
 "nbformat": 4,
 "nbformat_minor": 5
}
